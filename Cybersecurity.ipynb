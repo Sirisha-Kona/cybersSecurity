{
 "cells": [
  {
   "cell_type": "code",
   "execution_count": 1,
   "id": "91d6753b-a21a-4b5f-bb43-8e34e962e23f",
   "metadata": {},
   "outputs": [
    {
     "name": "stdout",
     "output_type": "stream",
     "text": [
      "Defaulting to user installation because normal site-packages is not writeable\n",
      "Looking in links: /usr/share/pip-wheels\n",
      "Requirement already satisfied: pandas in /opt/conda/envs/anaconda-panel-2023.05-py310/lib/python3.11/site-packages (2.0.3)\n",
      "Requirement already satisfied: sqlalchemy in /opt/conda/envs/anaconda-panel-2023.05-py310/lib/python3.11/site-packages (1.4.39)\n",
      "Requirement already satisfied: mysql-connector-python in ./.local/lib/python3.11/site-packages (9.2.0)\n",
      "Requirement already satisfied: python-dateutil>=2.8.2 in /opt/conda/envs/anaconda-panel-2023.05-py310/lib/python3.11/site-packages (from pandas) (2.8.2)\n",
      "Requirement already satisfied: pytz>=2020.1 in /opt/conda/envs/anaconda-panel-2023.05-py310/lib/python3.11/site-packages (from pandas) (2023.3.post1)\n",
      "Requirement already satisfied: tzdata>=2022.1 in /opt/conda/envs/anaconda-panel-2023.05-py310/lib/python3.11/site-packages (from pandas) (2023.3)\n",
      "Requirement already satisfied: numpy>=1.21.0 in /opt/conda/envs/anaconda-panel-2023.05-py310/lib/python3.11/site-packages (from pandas) (1.24.3)\n",
      "Requirement already satisfied: greenlet!=0.4.17 in /opt/conda/envs/anaconda-panel-2023.05-py310/lib/python3.11/site-packages (from sqlalchemy) (2.0.1)\n",
      "Requirement already satisfied: six>=1.5 in /opt/conda/envs/anaconda-panel-2023.05-py310/lib/python3.11/site-packages (from python-dateutil>=2.8.2->pandas) (1.16.0)\n"
     ]
    }
   ],
   "source": [
    "#command installs the pandas, sqlalchemy, and mysql-connector-python libraries\n",
    "!pip install pandas sqlalchemy mysql-connector-python"
   ]
  },
  {
   "cell_type": "code",
   "execution_count": 2,
   "id": "0099c322-33e1-4c00-b3b6-8b2bd00d96d1",
   "metadata": {},
   "outputs": [],
   "source": [
    "import pandas as pd\n",
    "#establish a connection between Python and a database\n",
    "from sqlalchemy import create_engine\n",
    "import mysql.connector\n",
    "import numpy as np\n",
    "import random\n",
    "from datetime import datetime, timedelta\n",
    "import matplotlib.pyplot as plt\n",
    "import seaborn as sns\n",
    "from tabulate import tabulate"
   ]
  },
  {
   "cell_type": "code",
   "execution_count": 3,
   "id": "c4817e05-dd8c-4266-839a-ec02fd0f40e4",
   "metadata": {},
   "outputs": [],
   "source": [
    "import os"
   ]
  },
  {
   "cell_type": "code",
   "execution_count": 4,
   "id": "1e4cfd3a-a434-4289-a12f-a879d7519c3f",
   "metadata": {},
   "outputs": [],
   "source": [
    "file_path=r\"Global_Cybersecurity_Threats_2015-2024.csv\""
   ]
  },
  {
   "cell_type": "code",
   "execution_count": 5,
   "id": "c4b6c422-eb29-4aea-ada3-8b76a5e4e029",
   "metadata": {},
   "outputs": [
    {
     "name": "stdout",
     "output_type": "stream",
     "text": [
      "File loaded successfully!\n",
      "   Country  Year        Attack Type     Target Industry  \\\n",
      "0    China  2019           Phishing           Education   \n",
      "1    China  2019         Ransomware              Retail   \n",
      "2    India  2017  Man-in-the-Middle                  IT   \n",
      "3       UK  2024         Ransomware  Telecommunications   \n",
      "4  Germany  2018  Man-in-the-Middle                  IT   \n",
      "\n",
      "   Financial Loss (in Million $)  Number of Affected Users Attack Source  \\\n",
      "0                          80.53                    773169  Hacker Group   \n",
      "1                          62.19                    295961  Hacker Group   \n",
      "2                          38.65                    605895  Hacker Group   \n",
      "3                          41.44                    659320  Nation-state   \n",
      "4                          74.41                    810682       Insider   \n",
      "\n",
      "  Security Vulnerability Type Defense Mechanism Used  \\\n",
      "0          Unpatched Software                    VPN   \n",
      "1          Unpatched Software               Firewall   \n",
      "2              Weak Passwords                    VPN   \n",
      "3          Social Engineering     AI-based Detection   \n",
      "4          Social Engineering                    VPN   \n",
      "\n",
      "   Incident Resolution Time (in Hours)  \n",
      "0                                   63  \n",
      "1                                   71  \n",
      "2                                   20  \n",
      "3                                    7  \n",
      "4                                   68  \n"
     ]
    }
   ],
   "source": [
    "if os.path.exists(file_path):\n",
    "    try:\n",
    "        df = pd.read_csv(file_path)\n",
    "        print(\"File loaded successfully!\")\n",
    "        print(df.head())\n",
    "    except FileNotFoundError:\n",
    "        print(\"Error: File not found.\")\n",
    "\n",
    "    except PermissionError:\n",
    "        print(\"Error: You don’t have permission to access this file.\")\n",
    "\n",
    "    except pd.errors.EmptyDataError:\n",
    "        print(\"Error: The file is empty.\")\n",
    "\n",
    "    except pd.errors.ParserError:\n",
    "        print(\"Error: Could not parse the file (might be corrupted or not CSV).\")\n",
    "\n",
    "    except ValueError as ve:\n",
    "        print(\"ValueError:\", ve)\n",
    "\n",
    "    except Exception as e:\n",
    "        print(\"An unexpected error occurred:\", e)\n",
    "\n",
    "else:\n",
    "    print(\"Error: File path does not exist.\")   "
   ]
  },
  {
   "cell_type": "code",
   "execution_count": 6,
   "id": "8eae1e45-9351-44e9-a069-ed785bd31d3f",
   "metadata": {},
   "outputs": [],
   "source": [
    "#Removing duplicates\n",
    "df=df.drop_duplicates()"
   ]
  },
  {
   "cell_type": "code",
   "execution_count": 7,
   "id": "35f97ece-4822-4d71-84ba-7ae8b4b4dcaa",
   "metadata": {},
   "outputs": [],
   "source": [
    "#Removes rows with NaN values.\n",
    "df=df.dropna()"
   ]
  },
  {
   "cell_type": "code",
   "execution_count": 8,
   "id": "6300edb3-e704-464f-90ce-6c7e36935da1",
   "metadata": {},
   "outputs": [
    {
     "name": "stdout",
     "output_type": "stream",
     "text": [
      "Cleaned dataset saved as 'CleanedGlobalCyberSecutity.csv'\n"
     ]
    }
   ],
   "source": [
    "df = df.reset_index(drop=True)    #Cleans up the index after any rows or columns have been removed or re-ordered\n",
    "df.to_csv('CleanedGlobalCyberSecutity.csv', index=False)     #Saves the cleaned dataset as a CSV file\n",
    "print(\"Cleaned dataset saved as 'CleanedGlobalCyberSecutity.csv'\")"
   ]
  },
  {
   "cell_type": "code",
   "execution_count": 9,
   "id": "79c00dcc-5ef3-4637-abb9-30545761b0cf",
   "metadata": {},
   "outputs": [],
   "source": [
    "#replaces all missing (NaN) values in your DataFrame with the string \"Not Mentioned\"\n",
    "df=df.fillna(\"Not Mentioned\")"
   ]
  },
  {
   "cell_type": "code",
   "execution_count": 10,
   "id": "f82318ac-187a-487c-b96b-d5cd76efe9c6",
   "metadata": {},
   "outputs": [],
   "source": [
    "df[\"Country\"]=df[\"Country\"].str.title()"
   ]
  },
  {
   "cell_type": "code",
   "execution_count": 11,
   "id": "63b92ae9-bcff-4c9f-8409-2c4849efeb49",
   "metadata": {},
   "outputs": [],
   "source": [
    "df[\"Attack Type\"]=df[\"Attack Type\"].str.lower().str.strip()\n",
    "df[\"Target Industry\"]=df[\"Target Industry\"].str.title()\n",
    "df[\"Attack Source\"]=df[\"Attack Source\"].str.title()\n",
    "df[\"Defense Mechanism Used\"]=df[\"Defense Mechanism Used\"].str.title()"
   ]
  },
  {
   "cell_type": "code",
   "execution_count": 12,
   "id": "a1f14ceb-b5a4-4620-9bfe-beafedeadfb8",
   "metadata": {},
   "outputs": [],
   "source": [
    "df=df.rename(columns={\n",
    "    \"Financial Loss (in Million $)\":\"Financial_Loss\",\n",
    "    \"Number of Affected Users\":\"Affected_Users\",\n",
    "    \"Incident Resolution Time (in Hours)\":\"Resolution_Hours\",\n",
    "    \"Attack Type\":\"Attack_Type\",\n",
    "    \"Target Industry\":\"Target_Industry\",\n",
    "    \"Attack Source\":\"Attack_Source\",\n",
    "    \"Security Vulnerability Type\":\"Vulnerability_Type\",\n",
    "    \"Defense Mechanism Used\":\"Defense Mechanism\"\n",
    "})"
   ]
  },
  {
   "cell_type": "code",
   "execution_count": 13,
   "id": "8285caa4-e0d3-4da4-ad58-44f1fcb9bd30",
   "metadata": {},
   "outputs": [
    {
     "name": "stdout",
     "output_type": "stream",
     "text": [
      "   Country  Year        Attack_Type     Target_Industry  Financial_Loss  \\\n",
      "0    China  2019           phishing           Education           80.53   \n",
      "1    China  2019         ransomware              Retail           62.19   \n",
      "2    India  2017  man-in-the-middle                  It           38.65   \n",
      "3       Uk  2024         ransomware  Telecommunications           41.44   \n",
      "4  Germany  2018  man-in-the-middle                  It           74.41   \n",
      "\n",
      "   Affected_Users Attack_Source  Vulnerability_Type   Defense Mechanism  \\\n",
      "0          773169  Hacker Group  Unpatched Software                 Vpn   \n",
      "1          295961  Hacker Group  Unpatched Software            Firewall   \n",
      "2          605895  Hacker Group      Weak Passwords                 Vpn   \n",
      "3          659320  Nation-State  Social Engineering  Ai-Based Detection   \n",
      "4          810682       Insider  Social Engineering                 Vpn   \n",
      "\n",
      "   Resolution_Hours  \n",
      "0                63  \n",
      "1                71  \n",
      "2                20  \n",
      "3                 7  \n",
      "4                68  \n",
      "<class 'pandas.core.frame.DataFrame'>\n",
      "RangeIndex: 3000 entries, 0 to 2999\n",
      "Data columns (total 10 columns):\n",
      " #   Column              Non-Null Count  Dtype  \n",
      "---  ------              --------------  -----  \n",
      " 0   Country             3000 non-null   object \n",
      " 1   Year                3000 non-null   int64  \n",
      " 2   Attack_Type         3000 non-null   object \n",
      " 3   Target_Industry     3000 non-null   object \n",
      " 4   Financial_Loss      3000 non-null   float64\n",
      " 5   Affected_Users      3000 non-null   int64  \n",
      " 6   Attack_Source       3000 non-null   object \n",
      " 7   Vulnerability_Type  3000 non-null   object \n",
      " 8   Defense Mechanism   3000 non-null   object \n",
      " 9   Resolution_Hours    3000 non-null   int64  \n",
      "dtypes: float64(1), int64(3), object(6)\n",
      "memory usage: 234.5+ KB\n",
      "None\n"
     ]
    }
   ],
   "source": [
    "print(df.head())\n",
    "print(df.info())"
   ]
  },
  {
   "cell_type": "code",
   "execution_count": 14,
   "id": "c4edc27a-4983-4be7-a28c-8623842af4fe",
   "metadata": {},
   "outputs": [],
   "source": [
    "import mysql.connector\n",
    "from mysql.connector import Error\n",
    "def create_connection():\n",
    "    try:\n",
    "        connection = mysql.connector.connect(\n",
    "            host='localhost',  # Use your MySQL host (e.g., localhost, or an IP address)\n",
    "            user='root',\n",
    "            password='siri%40123',\n",
    "            database='CyberSecurity_DB'  # Database name to use (create it if not present)\n",
    "        )\n",
    "\n",
    "        if connection.is_connected():\n",
    "            print(\"Successfully connected to the MySQL database.\")\n",
    "        return connection\n",
    "    except Error as e:\n",
    "        print(f\"Error: {e}\")\n",
    "        return None"
   ]
  },
  {
   "cell_type": "code",
   "execution_count": 15,
   "id": "2685fd2d-19c1-49f0-b287-3c93159c1f49",
   "metadata": {},
   "outputs": [],
   "source": [
    "def create_tables(connection):\n",
    "    cursor = connection.cursor()\n",
    "    try:\n",
    "        cursor.execute(\"\"\"\n",
    "            CREATE TABLE IF NOT EXISTS countries (\n",
    "    country_id INT AUTO_INCREMENT PRIMARY KEY,\n",
    "    name VARCHAR(100) UNIQUE NOT NULL\n",
    ");\n",
    "        \"\"\")\n",
    "        cursor.execute(\"\"\"\n",
    "            CREATE TABLE IF NOT EXISTS attack_types (\n",
    "    attack_type_id INT AUTO_INCREMENT PRIMARY KEY,\n",
    "    name VARCHAR(100) UNIQUE NOT NULL\n",
    ");\n",
    "        \"\"\")\n",
    "        cursor.execute(\"\"\"\n",
    "            CREATE TABLE IF NOT EXISTS industries (\n",
    "    industry_id INT AUTO_INCREMENT PRIMARY KEY,\n",
    "    name VARCHAR(100) UNIQUE NOT NULL\n",
    ");\n",
    "        \"\"\")\n",
    "        cursor.execute(\"\"\"\n",
    "            CREATE TABLE IF NOT EXISTS cyber_threats (\n",
    "    attack_id INT AUTO_INCREMENT PRIMARY KEY,\n",
    "    country_id INT,\n",
    "    attack_type_id INT,\n",
    "    industry_id INT,\n",
    "    year INT,\n",
    "    financial_loss DECIMAL(15, 2),\n",
    "    affected_users INT,\n",
    "    resolution_time_hours INT,\n",
    "    description TEXT,\n",
    "    FOREIGN KEY (country_id) REFERENCES countries(country_id),\n",
    "    FOREIGN KEY (attack_type_id) REFERENCES attack_types(attack_type_id),\n",
    "    FOREIGN KEY (industry_id) REFERENCES industries(industry_id)\n",
    ");\n",
    "        \"\"\")\n",
    "        connection.commit()\n",
    "        print(\"Tables created successfully.\")\n",
    "    except Error as e:\n",
    "        print(f\"Error creating tables: {e}\")\n"
   ]
  },
  {
   "cell_type": "code",
   "execution_count": 16,
   "id": "d558a086-55d8-4436-a474-71476e70011d",
   "metadata": {},
   "outputs": [
    {
     "name": "stdout",
     "output_type": "stream",
     "text": [
      "<class 'pandas.core.frame.DataFrame'>\n",
      "RangeIndex: 3000 entries, 0 to 2999\n",
      "Data columns (total 10 columns):\n",
      " #   Column                               Non-Null Count  Dtype  \n",
      "---  ------                               --------------  -----  \n",
      " 0   Country                              3000 non-null   object \n",
      " 1   Year                                 3000 non-null   int64  \n",
      " 2   Attack Type                          3000 non-null   object \n",
      " 3   Target Industry                      3000 non-null   object \n",
      " 4   Financial Loss (in Million $)        3000 non-null   float64\n",
      " 5   Number of Affected Users             3000 non-null   int64  \n",
      " 6   Attack Source                        3000 non-null   object \n",
      " 7   Security Vulnerability Type          3000 non-null   object \n",
      " 8   Defense Mechanism Used               3000 non-null   object \n",
      " 9   Incident Resolution Time (in Hours)  3000 non-null   int64  \n",
      "dtypes: float64(1), int64(3), object(6)\n",
      "memory usage: 234.5+ KB\n",
      "None\n"
     ]
    },
    {
     "data": {
      "text/html": [
       "<div>\n",
       "<style scoped>\n",
       "    .dataframe tbody tr th:only-of-type {\n",
       "        vertical-align: middle;\n",
       "    }\n",
       "\n",
       "    .dataframe tbody tr th {\n",
       "        vertical-align: top;\n",
       "    }\n",
       "\n",
       "    .dataframe thead th {\n",
       "        text-align: right;\n",
       "    }\n",
       "</style>\n",
       "<table border=\"1\" class=\"dataframe\">\n",
       "  <thead>\n",
       "    <tr style=\"text-align: right;\">\n",
       "      <th></th>\n",
       "      <th>Country</th>\n",
       "      <th>Year</th>\n",
       "      <th>Attack Type</th>\n",
       "      <th>Target Industry</th>\n",
       "      <th>Financial Loss (in Million $)</th>\n",
       "      <th>Number of Affected Users</th>\n",
       "      <th>Attack Source</th>\n",
       "      <th>Security Vulnerability Type</th>\n",
       "      <th>Defense Mechanism Used</th>\n",
       "      <th>Incident Resolution Time (in Hours)</th>\n",
       "    </tr>\n",
       "  </thead>\n",
       "  <tbody>\n",
       "    <tr>\n",
       "      <th>0</th>\n",
       "      <td>China</td>\n",
       "      <td>2019</td>\n",
       "      <td>Phishing</td>\n",
       "      <td>Education</td>\n",
       "      <td>80.53</td>\n",
       "      <td>773169</td>\n",
       "      <td>Hacker Group</td>\n",
       "      <td>Unpatched Software</td>\n",
       "      <td>VPN</td>\n",
       "      <td>63</td>\n",
       "    </tr>\n",
       "    <tr>\n",
       "      <th>1</th>\n",
       "      <td>China</td>\n",
       "      <td>2019</td>\n",
       "      <td>Ransomware</td>\n",
       "      <td>Retail</td>\n",
       "      <td>62.19</td>\n",
       "      <td>295961</td>\n",
       "      <td>Hacker Group</td>\n",
       "      <td>Unpatched Software</td>\n",
       "      <td>Firewall</td>\n",
       "      <td>71</td>\n",
       "    </tr>\n",
       "    <tr>\n",
       "      <th>2</th>\n",
       "      <td>India</td>\n",
       "      <td>2017</td>\n",
       "      <td>Man-in-the-Middle</td>\n",
       "      <td>IT</td>\n",
       "      <td>38.65</td>\n",
       "      <td>605895</td>\n",
       "      <td>Hacker Group</td>\n",
       "      <td>Weak Passwords</td>\n",
       "      <td>VPN</td>\n",
       "      <td>20</td>\n",
       "    </tr>\n",
       "    <tr>\n",
       "      <th>3</th>\n",
       "      <td>UK</td>\n",
       "      <td>2024</td>\n",
       "      <td>Ransomware</td>\n",
       "      <td>Telecommunications</td>\n",
       "      <td>41.44</td>\n",
       "      <td>659320</td>\n",
       "      <td>Nation-state</td>\n",
       "      <td>Social Engineering</td>\n",
       "      <td>AI-based Detection</td>\n",
       "      <td>7</td>\n",
       "    </tr>\n",
       "    <tr>\n",
       "      <th>4</th>\n",
       "      <td>Germany</td>\n",
       "      <td>2018</td>\n",
       "      <td>Man-in-the-Middle</td>\n",
       "      <td>IT</td>\n",
       "      <td>74.41</td>\n",
       "      <td>810682</td>\n",
       "      <td>Insider</td>\n",
       "      <td>Social Engineering</td>\n",
       "      <td>VPN</td>\n",
       "      <td>68</td>\n",
       "    </tr>\n",
       "  </tbody>\n",
       "</table>\n",
       "</div>"
      ],
      "text/plain": [
       "   Country  Year        Attack Type     Target Industry  \\\n",
       "0    China  2019           Phishing           Education   \n",
       "1    China  2019         Ransomware              Retail   \n",
       "2    India  2017  Man-in-the-Middle                  IT   \n",
       "3       UK  2024         Ransomware  Telecommunications   \n",
       "4  Germany  2018  Man-in-the-Middle                  IT   \n",
       "\n",
       "   Financial Loss (in Million $)  Number of Affected Users Attack Source  \\\n",
       "0                          80.53                    773169  Hacker Group   \n",
       "1                          62.19                    295961  Hacker Group   \n",
       "2                          38.65                    605895  Hacker Group   \n",
       "3                          41.44                    659320  Nation-state   \n",
       "4                          74.41                    810682       Insider   \n",
       "\n",
       "  Security Vulnerability Type Defense Mechanism Used  \\\n",
       "0          Unpatched Software                    VPN   \n",
       "1          Unpatched Software               Firewall   \n",
       "2              Weak Passwords                    VPN   \n",
       "3          Social Engineering     AI-based Detection   \n",
       "4          Social Engineering                    VPN   \n",
       "\n",
       "   Incident Resolution Time (in Hours)  \n",
       "0                                   63  \n",
       "1                                   71  \n",
       "2                                   20  \n",
       "3                                    7  \n",
       "4                                   68  "
      ]
     },
     "execution_count": 16,
     "metadata": {},
     "output_type": "execute_result"
    }
   ],
   "source": [
    "df = pd.read_csv(\"CleanedGlobalCyberSecutity.csv\")  # Replace with your actual cleaned CSV path\n",
    "print(df.info())\n",
    "df.head()"
   ]
  },
  {
   "cell_type": "code",
   "execution_count": 17,
   "id": "b1ed0f46-ac81-48ba-a7bf-882fad678af3",
   "metadata": {},
   "outputs": [
    {
     "name": "stdout",
     "output_type": "stream",
     "text": [
      "Top 10 Countries Affected:\n",
      " Country\n",
      "UK           321\n",
      "Brazil       310\n",
      "India        308\n",
      "France       305\n",
      "Japan        305\n",
      "Australia    297\n",
      "Russia       295\n",
      "Germany      291\n",
      "USA          287\n",
      "China        281\n",
      "Name: count, dtype: int64\n"
     ]
    }
   ],
   "source": [
    "#Top countries affected by cyber attacks\n",
    "top_countries = df['Country'].value_counts().head(10)\n",
    "print(f\"Top 10 Countries Affected:\\n {top_countries}\")"
   ]
  },
  {
   "cell_type": "code",
   "execution_count": 18,
   "id": "8a42730e-54a8-42ac-95c5-d666ac51cfdc",
   "metadata": {},
   "outputs": [
    {
     "name": "stdout",
     "output_type": "stream",
     "text": [
      "Index(['country', 'year', 'attack_type', 'target_industry', 'financial_loss_',\n",
      "       'number_of_affected_users', 'attack_source',\n",
      "       'security_vulnerability_type', 'defense_mechanism_used',\n",
      "       'incident_resolution_time_'],\n",
      "      dtype='object')\n",
      "Threat Frequency:\n",
      "attack_type\n",
      "DDoS                 531\n",
      "Phishing             529\n",
      "SQL Injection        503\n",
      "Ransomware           493\n",
      "Malware              485\n",
      "Man-in-the-Middle    459\n",
      "Name: count, dtype: int64\n"
     ]
    }
   ],
   "source": [
    "#Frequency of different types of threats (e.g., phishing, malware, ransomware)\n",
    "df.columns = df.columns.str.strip().str.lower().str.replace(\" \", \"_\").str.replace(r\"\\(.*?\\)\", \"\", regex=True)\n",
    "print(df.columns)\n",
    "top_threats = df['attack_type'].value_counts()\n",
    "print(f\"Threat Frequency:\\n{top_threats}\")"
   ]
  },
  {
   "cell_type": "code",
   "execution_count": 19,
   "id": "308010d0-c250-420c-bdce-5f11110d80f0",
   "metadata": {},
   "outputs": [
    {
     "name": "stdout",
     "output_type": "stream",
     "text": [
      "Year-wise Attack Count:\n",
      " year\n",
      "2015    277\n",
      "2016    285\n",
      "2017    319\n",
      "2018    310\n",
      "2019    263\n",
      "2020    315\n",
      "2021    299\n",
      "2022    318\n",
      "2023    315\n",
      "2024    299\n",
      "Name: count, dtype: int64\n"
     ]
    }
   ],
   "source": [
    "#Year-over-year trends in global cybersecurity incidents\n",
    "yearly_trends = df['year'].value_counts().sort_index()\n",
    "print(f\"Year-wise Attack Count:\\n {yearly_trends}\")"
   ]
  },
  {
   "cell_type": "code",
   "execution_count": 20,
   "id": "9f608e0a-982a-408e-9513-e09e381e97c8",
   "metadata": {},
   "outputs": [
    {
     "name": "stdout",
     "output_type": "stream",
     "text": [
      "Total Financial Loss by Country:\n",
      " country\n",
      "UK           16502.99\n",
      "Germany      15793.24\n",
      "Brazil       15782.62\n",
      "Australia    15403.00\n",
      "Japan        15197.34\n",
      "France       14972.28\n",
      "USA          14812.12\n",
      "Russia       14734.73\n",
      "India        14566.12\n",
      "China        13714.47\n",
      "Name: financial_loss_, dtype: float64\n"
     ]
    }
   ],
   "source": [
    "#Severity levels and their impact by region\n",
    "severity_by_country = df.groupby('country')['financial_loss_'].sum().sort_values(ascending=False)\n",
    "print(f\"Total Financial Loss by Country:\\n {severity_by_country.head(10)}\")"
   ]
  },
  {
   "cell_type": "code",
   "execution_count": 21,
   "id": "ffbc61e0-84b3-4541-85d1-29f149e3d985",
   "metadata": {},
   "outputs": [
    {
     "name": "stdout",
     "output_type": "stream",
     "text": [
      "Attack Type vs Target Industry:\n",
      " attack_type        target_industry   \n",
      "Phishing           Banking               96\n",
      "DDoS               IT                    91\n",
      "Phishing           Retail                89\n",
      "                   IT                    89\n",
      "DDoS               Telecommunications    85\n",
      "Malware            Healthcare            81\n",
      "Man-in-the-Middle  IT                    80\n",
      "SQL Injection      Telecommunications    78\n",
      "DDoS               Healthcare            78\n",
      "SQL Injection      IT                    77\n",
      "dtype: int64\n"
     ]
    }
   ],
   "source": [
    "#Correlation between attack type and sector targeted\n",
    "attack_vs_sector = df.groupby(['attack_type', 'target_industry']).size().sort_values(ascending=False)\n",
    "print(f\"Attack Type vs Target Industry:\\n {attack_vs_sector.head(10)}\")"
   ]
  },
  {
   "cell_type": "code",
   "execution_count": 22,
   "id": "59a88fcd-b038-4ece-9547-7fd5a081694a",
   "metadata": {},
   "outputs": [
    {
     "name": "stdout",
     "output_type": "stream",
     "text": [
      "Summary Statistics:\n",
      "+-------+------------+-------------------+----------------------------+-----------------------------+\n",
      "|       |       year |   financial_loss_ |   number_of_affected_users |   incident_resolution_time_ |\n",
      "+=======+============+===================+============================+=============================+\n",
      "| count | 3000       |         3000      |                       3000 |                   3000      |\n",
      "+-------+------------+-------------------+----------------------------+-----------------------------+\n",
      "| mean  | 2019.57    |           50.493  |                     504684 |                     36.476  |\n",
      "+-------+------------+-------------------+----------------------------+-----------------------------+\n",
      "| std   |    2.85793 |           28.7914 |                     289944 |                     20.5708 |\n",
      "+-------+------------+-------------------+----------------------------+-----------------------------+\n",
      "| min   | 2015       |            0.5    |                        424 |                      1      |\n",
      "+-------+------------+-------------------+----------------------------+-----------------------------+\n",
      "| 25%   | 2017       |           25.7575 |                     255805 |                     19      |\n",
      "+-------+------------+-------------------+----------------------------+-----------------------------+\n",
      "| 50%   | 2020       |           50.795  |                     504513 |                     37      |\n",
      "+-------+------------+-------------------+----------------------------+-----------------------------+\n",
      "| 75%   | 2022       |           75.63   |                     758088 |                     55      |\n",
      "+-------+------------+-------------------+----------------------------+-----------------------------+\n",
      "| max   | 2024       |           99.99   |                     999635 |                     72      |\n",
      "+-------+------------+-------------------+----------------------------+-----------------------------+\n"
     ]
    }
   ],
   "source": [
    "#Summary statistics\n",
    "from tabulate import tabulate\n",
    "summary = df.describe()\n",
    "print(\"Summary Statistics:\")\n",
    "print(tabulate(summary, headers='keys', tablefmt='grid'))"
   ]
  },
  {
   "cell_type": "code",
   "execution_count": 23,
   "id": "86d9c5cb-dd20-4915-a8c4-b3a85f547b45",
   "metadata": {},
   "outputs": [
    {
     "name": "stdout",
     "output_type": "stream",
     "text": [
      "Most Frequent Attack Types:\n",
      "╒═══════════════════╤═════════╕\n",
      "│ Attack Type       │   Count │\n",
      "╞═══════════════════╪═════════╡\n",
      "│ DDoS              │     531 │\n",
      "├───────────────────┼─────────┤\n",
      "│ Phishing          │     529 │\n",
      "├───────────────────┼─────────┤\n",
      "│ SQL Injection     │     503 │\n",
      "├───────────────────┼─────────┤\n",
      "│ Ransomware        │     493 │\n",
      "├───────────────────┼─────────┤\n",
      "│ Malware           │     485 │\n",
      "├───────────────────┼─────────┤\n",
      "│ Man-in-the-Middle │     459 │\n",
      "╘═══════════════════╧═════════╛\n"
     ]
    }
   ],
   "source": [
    "#Most frequent threat types\n",
    "from tabulate import tabulate\n",
    "attack_counts = df['attack_type'].value_counts().head(10)\n",
    "attack_table = list(zip(attack_counts.index, attack_counts.values))   # Convert to a list of tuples\n",
    "print(\"Most Frequent Attack Types:\")\n",
    "print(tabulate(attack_table, headers=[\"Attack Type\", \"Count\"], tablefmt=\"fancy_grid\"))"
   ]
  },
  {
   "cell_type": "code",
   "execution_count": 24,
   "id": "783f6395-a99d-410b-96d1-733da76a6ffa",
   "metadata": {},
   "outputs": [
    {
     "name": "stdout",
     "output_type": "stream",
     "text": [
      "Region-Wise Attack Count:\n",
      "╒═══════════╤════════════════╕\n",
      "│ Country   │   Attack Count │\n",
      "╞═══════════╪════════════════╡\n",
      "│ UK        │            321 │\n",
      "├───────────┼────────────────┤\n",
      "│ Brazil    │            310 │\n",
      "├───────────┼────────────────┤\n",
      "│ India     │            308 │\n",
      "├───────────┼────────────────┤\n",
      "│ France    │            305 │\n",
      "├───────────┼────────────────┤\n",
      "│ Japan     │            305 │\n",
      "├───────────┼────────────────┤\n",
      "│ Australia │            297 │\n",
      "├───────────┼────────────────┤\n",
      "│ Russia    │            295 │\n",
      "├───────────┼────────────────┤\n",
      "│ Germany   │            291 │\n",
      "├───────────┼────────────────┤\n",
      "│ USA       │            287 │\n",
      "├───────────┼────────────────┤\n",
      "│ China     │            281 │\n",
      "╘═══════════╧════════════════╛\n"
     ]
    }
   ],
   "source": [
    "#Region-wise breakdowns\n",
    "from tabulate import tabulate\n",
    "country_counts = df['country'].value_counts().head(10)\n",
    "country_table = list(zip(country_counts.index, country_counts.values))\n",
    "print(\"Region-Wise Attack Count:\")\n",
    "print(tabulate(country_table, headers=[\"Country\", \"Attack Count\"], tablefmt=\"fancy_grid\"))"
   ]
  },
  {
   "cell_type": "code",
   "execution_count": 25,
   "id": "d5f90b8f-9f3d-4a89-9398-6d63432acc27",
   "metadata": {},
   "outputs": [
    {
     "name": "stdout",
     "output_type": "stream",
     "text": [
      "Year-wise Breakdown of Incidents:\n",
      "╒════════╤══════════════════╕\n",
      "│   Year │   Incident Count │\n",
      "╞════════╪══════════════════╡\n",
      "│   2015 │              277 │\n",
      "├────────┼──────────────────┤\n",
      "│   2016 │              285 │\n",
      "├────────┼──────────────────┤\n",
      "│   2017 │              319 │\n",
      "├────────┼──────────────────┤\n",
      "│   2018 │              310 │\n",
      "├────────┼──────────────────┤\n",
      "│   2019 │              263 │\n",
      "├────────┼──────────────────┤\n",
      "│   2020 │              315 │\n",
      "├────────┼──────────────────┤\n",
      "│   2021 │              299 │\n",
      "├────────┼──────────────────┤\n",
      "│   2022 │              318 │\n",
      "├────────┼──────────────────┤\n",
      "│   2023 │              315 │\n",
      "├────────┼──────────────────┤\n",
      "│   2024 │              299 │\n",
      "╘════════╧══════════════════╛\n"
     ]
    }
   ],
   "source": [
    "#year-wise breakdowns\n",
    "from tabulate import tabulate\n",
    "year_counts = df['year'].value_counts().sort_index()\n",
    "year_table = list(zip(year_counts.index, year_counts.values))\n",
    "print(\"Year-wise Breakdown of Incidents:\")\n",
    "print(tabulate(year_table, headers=[\"Year\", \"Incident Count\"], tablefmt=\"fancy_grid\"))"
   ]
  },
  {
   "cell_type": "code",
   "execution_count": 26,
   "id": "4e856aea-aff4-4011-8494-8b9ac6252b46",
   "metadata": {},
   "outputs": [
    {
     "name": "stdout",
     "output_type": "stream",
     "text": [
      "['country', 'year', 'attack_type', 'target_industry', 'financial_loss_', 'number_of_affected_users', 'attack_source', 'security_vulnerability_type', 'defense_mechanism_used', 'incident_resolution_time_']\n"
     ]
    }
   ],
   "source": [
    "print(df.columns.tolist())"
   ]
  },
  {
   "cell_type": "code",
   "execution_count": 27,
   "id": "1c798b46-bc39-438b-b034-f246d563eba5",
   "metadata": {},
   "outputs": [
    {
     "name": "stdout",
     "output_type": "stream",
     "text": [
      "\n",
      "Top 3 Incidents by Longest Resolution Time:\n",
      "╒═══════════╤════════╤═══════════════╤═══════════════════╤═══════════════════╤════════════════════════════╤═════════════════╤═══════════════════════════════╤══════════════════════════╤═════════════════════════════╕\n",
      "│ country   │   year │ attack_type   │ target_industry   │   financial_loss_ │   number_of_affected_users │ attack_source   │ security_vulnerability_type   │ defense_mechanism_used   │   incident_resolution_time_ │\n",
      "╞═══════════╪════════╪═══════════════╪═══════════════════╪═══════════════════╪════════════════════════════╪═════════════════╪═══════════════════════════════╪══════════════════════════╪═════════════════════════════╡\n",
      "│ Germany   │   2018 │ Phishing      │ Government        │             46.92 │                     610201 │ Nation-state    │ Weak Passwords                │ VPN                      │                          72 │\n",
      "├───────────┼────────┼───────────────┼───────────────────┼───────────────────┼────────────────────────────┼─────────────────┼───────────────────────────────┼──────────────────────────┼─────────────────────────────┤\n",
      "│ UK        │   2018 │ Phishing      │ Healthcare        │             95.3  │                     269142 │ Unknown         │ Unpatched Software            │ Encryption               │                          72 │\n",
      "├───────────┼────────┼───────────────┼───────────────────┼───────────────────┼────────────────────────────┼─────────────────┼───────────────────────────────┼──────────────────────────┼─────────────────────────────┤\n",
      "│ Brazil    │   2023 │ SQL Injection │ Healthcare        │             72.9  │                     434510 │ Hacker Group    │ Social Engineering            │ Firewall                 │                          72 │\n",
      "╘═══════════╧════════╧═══════════════╧═══════════════════╧═══════════════════╧════════════════════════════╧═════════════════╧═══════════════════════════════╧══════════════════════════╧═════════════════════════════╛\n"
     ]
    }
   ],
   "source": [
    "#Longest Resolution Time (Top 3)\n",
    "import pandas as pd\n",
    "from tabulate import tabulate\n",
    "columns_to_display = ['incident_id', 'country', 'year', 'financial_loss_']\n",
    "top_resolution_time = df.sort_values(by='incident_resolution_time_', ascending=False).head(3)[['country', 'year', 'attack_type', 'target_industry', 'financial_loss_', 'number_of_affected_users', 'attack_source', 'security_vulnerability_type', 'defense_mechanism_used', 'incident_resolution_time_']]\n",
    "print(\"\\nTop 3 Incidents by Longest Resolution Time:\")\n",
    "print(tabulate(top_resolution_time, headers='keys', tablefmt='fancy_grid', showindex=False))"
   ]
  },
  {
   "cell_type": "code",
   "execution_count": null,
   "id": "1d09c8d6-1672-425d-9a09-4b91855ef17e",
   "metadata": {},
   "outputs": [],
   "source": []
  }
 ],
 "metadata": {
  "kernelspec": {
   "display_name": "anaconda-panel-2023.05-py310",
   "language": "python",
   "name": "conda-env-anaconda-panel-2023.05-py310-py"
  },
  "language_info": {
   "codemirror_mode": {
    "name": "ipython",
    "version": 3
   },
   "file_extension": ".py",
   "mimetype": "text/x-python",
   "name": "python",
   "nbconvert_exporter": "python",
   "pygments_lexer": "ipython3",
   "version": "3.11.5"
  }
 },
 "nbformat": 4,
 "nbformat_minor": 5
}

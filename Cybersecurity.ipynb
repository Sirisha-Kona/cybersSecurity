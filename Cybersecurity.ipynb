{
 "cells": [
  {
   "cell_type": "code",
   "execution_count": 1,
   "id": "1a514496-1e5f-4e46-8a5b-9c6745b39d26",
   "metadata": {},
   "outputs": [
    {
     "name": "stdout",
     "output_type": "stream",
     "text": [
      "Defaulting to user installation because normal site-packages is not writeable\n",
      "Looking in links: /usr/share/pip-wheels\n",
      "Requirement already satisfied: mysql-connector-python in ./.local/lib/python3.11/site-packages (9.2.0)\n",
      "Note: you may need to restart the kernel to use updated packages.\n"
     ]
    }
   ],
   "source": [
    "pip install mysql-connector-python"
   ]
  },
  {
   "cell_type": "code",
   "execution_count": 2,
   "id": "cf9a9e93-d039-495a-975b-444736001cc2",
   "metadata": {},
   "outputs": [
    {
     "name": "stdout",
     "output_type": "stream",
     "text": [
      "Defaulting to user installation because normal site-packages is not writeable\n",
      "Looking in links: /usr/share/pip-wheels\n",
      "Requirement already satisfied: pandas in /opt/conda/envs/anaconda-panel-2023.05-py310/lib/python3.11/site-packages (2.0.3)\n",
      "Requirement already satisfied: python-dateutil>=2.8.2 in /opt/conda/envs/anaconda-panel-2023.05-py310/lib/python3.11/site-packages (from pandas) (2.8.2)\n",
      "Requirement already satisfied: pytz>=2020.1 in /opt/conda/envs/anaconda-panel-2023.05-py310/lib/python3.11/site-packages (from pandas) (2023.3.post1)\n",
      "Requirement already satisfied: tzdata>=2022.1 in /opt/conda/envs/anaconda-panel-2023.05-py310/lib/python3.11/site-packages (from pandas) (2023.3)\n",
      "Requirement already satisfied: numpy>=1.21.0 in /opt/conda/envs/anaconda-panel-2023.05-py310/lib/python3.11/site-packages (from pandas) (1.24.3)\n",
      "Requirement already satisfied: six>=1.5 in /opt/conda/envs/anaconda-panel-2023.05-py310/lib/python3.11/site-packages (from python-dateutil>=2.8.2->pandas) (1.16.0)\n",
      "Note: you may need to restart the kernel to use updated packages.\n"
     ]
    }
   ],
   "source": [
    "pip install pandas"
   ]
  },
  {
   "cell_type": "code",
   "execution_count": 3,
   "id": "0099c322-33e1-4c00-b3b6-8b2bd00d96d1",
   "metadata": {},
   "outputs": [],
   "source": [
    "import pandas as pd"
   ]
  },
  {
   "cell_type": "code",
   "execution_count": 4,
   "id": "c4817e05-dd8c-4266-839a-ec02fd0f40e4",
   "metadata": {},
   "outputs": [],
   "source": [
    "import os"
   ]
  },
  {
   "cell_type": "code",
   "execution_count": 5,
   "id": "1e4cfd3a-a434-4289-a12f-a879d7519c3f",
   "metadata": {},
   "outputs": [],
   "source": [
    "file_path=r\"Global_Cybersecurity_Threats_2015-2024.csv\""
   ]
  },
  {
   "cell_type": "code",
   "execution_count": 6,
   "id": "c4b6c422-eb29-4aea-ada3-8b76a5e4e029",
   "metadata": {},
   "outputs": [
    {
     "name": "stdout",
     "output_type": "stream",
     "text": [
      "File loaded successfully!\n",
      "   Country  Year        Attack Type     Target Industry  \\\n",
      "0    China  2019           Phishing           Education   \n",
      "1    China  2019         Ransomware              Retail   \n",
      "2    India  2017  Man-in-the-Middle                  IT   \n",
      "3       UK  2024         Ransomware  Telecommunications   \n",
      "4  Germany  2018  Man-in-the-Middle                  IT   \n",
      "\n",
      "   Financial Loss (in Million $)  Number of Affected Users Attack Source  \\\n",
      "0                          80.53                    773169  Hacker Group   \n",
      "1                          62.19                    295961  Hacker Group   \n",
      "2                          38.65                    605895  Hacker Group   \n",
      "3                          41.44                    659320  Nation-state   \n",
      "4                          74.41                    810682       Insider   \n",
      "\n",
      "  Security Vulnerability Type Defense Mechanism Used  \\\n",
      "0          Unpatched Software                    VPN   \n",
      "1          Unpatched Software               Firewall   \n",
      "2              Weak Passwords                    VPN   \n",
      "3          Social Engineering     AI-based Detection   \n",
      "4          Social Engineering                    VPN   \n",
      "\n",
      "   Incident Resolution Time (in Hours)  \n",
      "0                                   63  \n",
      "1                                   71  \n",
      "2                                   20  \n",
      "3                                    7  \n",
      "4                                   68  \n"
     ]
    }
   ],
   "source": [
    "if os.path.exists(file_path):\n",
    "    try:\n",
    "        df = pd.read_csv(file_path)\n",
    "        print(\"File loaded successfully!\")\n",
    "        print(df.head())\n",
    "    except FileNotFoundError:\n",
    "        print(\"Error: File not found.\")\n",
    "\n",
    "    except PermissionError:\n",
    "        print(\"Error: You don’t have permission to access this file.\")\n",
    "\n",
    "    except pd.errors.EmptyDataError:\n",
    "        print(\"Error: The file is empty.\")\n",
    "\n",
    "    except pd.errors.ParserError:\n",
    "        print(\"Error: Could not parse the file (might be corrupted or not CSV).\")\n",
    "\n",
    "    except ValueError as ve:\n",
    "        print(\"ValueError:\", ve)\n",
    "\n",
    "    except Exception as e:\n",
    "        print(\"An unexpected error occurred:\", e)\n",
    "\n",
    "else:\n",
    "    print(\"Error: File path does not exist.\")   "
   ]
  },
  {
   "cell_type": "code",
   "execution_count": 7,
   "id": "8eae1e45-9351-44e9-a069-ed785bd31d3f",
   "metadata": {},
   "outputs": [],
   "source": [
    "df=df.drop_duplicates()"
   ]
  },
  {
   "cell_type": "code",
   "execution_count": 8,
   "id": "35f97ece-4822-4d71-84ba-7ae8b4b4dcaa",
   "metadata": {},
   "outputs": [],
   "source": [
    "df=df.dropna()"
   ]
  },
  {
   "cell_type": "code",
   "execution_count": 9,
   "id": "79c00dcc-5ef3-4637-abb9-30545761b0cf",
   "metadata": {},
   "outputs": [],
   "source": [
    "df=df.fillna(\"Not Mentioned\")"
   ]
  },
  {
   "cell_type": "code",
   "execution_count": 10,
   "id": "f82318ac-187a-487c-b96b-d5cd76efe9c6",
   "metadata": {},
   "outputs": [],
   "source": [
    "df[\"Country\"]=df[\"Country\"].str.title()"
   ]
  },
  {
   "cell_type": "code",
   "execution_count": 11,
   "id": "63b92ae9-bcff-4c9f-8409-2c4849efeb49",
   "metadata": {},
   "outputs": [],
   "source": [
    "df[\"Attack Type\"]=df[\"Attack Type\"].str.lower().str.strip()\n",
    "df[\"Target Industry\"]=df[\"Target Industry\"].str.title()\n",
    "df[\"Attack Source\"]=df[\"Attack Source\"].str.title()\n",
    "df[\"Defense Mechanism Used\"]=df[\"Defense Mechanism Used\"].str.title()"
   ]
  },
  {
   "cell_type": "code",
   "execution_count": 12,
   "id": "a1f14ceb-b5a4-4620-9bfe-beafedeadfb8",
   "metadata": {},
   "outputs": [],
   "source": [
    "df=df.rename(columns={\n",
    "    \"Financial Loss (in Million $)\":\"Financial_Loss\",\n",
    "    \"Number of Affected Users\":\"Affected_Users\",\n",
    "    \"Incident Resolution Time (in Hours)\":\"Resolution_Hours\",\n",
    "    \"Attack Type\":\"Attack_Type\",\n",
    "    \"Target Industry\":\"Target_Industry\",\n",
    "    \"Attack Source\":\"Attack_Source\",\n",
    "    \"Security Vulnerability Type\":\"Vulnerability_Type\",\n",
    "    \"Defense Mechanism Used\":\"Defense Mechanism\"\n",
    "})"
   ]
  },
  {
   "cell_type": "code",
   "execution_count": 13,
   "id": "8285caa4-e0d3-4da4-ad58-44f1fcb9bd30",
   "metadata": {},
   "outputs": [
    {
     "name": "stdout",
     "output_type": "stream",
     "text": [
      "   Country  Year        Attack_Type     Target_Industry  Financial_Loss  \\\n",
      "0    China  2019           phishing           Education           80.53   \n",
      "1    China  2019         ransomware              Retail           62.19   \n",
      "2    India  2017  man-in-the-middle                  It           38.65   \n",
      "3       Uk  2024         ransomware  Telecommunications           41.44   \n",
      "4  Germany  2018  man-in-the-middle                  It           74.41   \n",
      "\n",
      "   Affected_Users Attack_Source  Vulnerability_Type   Defense Mechanism  \\\n",
      "0          773169  Hacker Group  Unpatched Software                 Vpn   \n",
      "1          295961  Hacker Group  Unpatched Software            Firewall   \n",
      "2          605895  Hacker Group      Weak Passwords                 Vpn   \n",
      "3          659320  Nation-State  Social Engineering  Ai-Based Detection   \n",
      "4          810682       Insider  Social Engineering                 Vpn   \n",
      "\n",
      "   Resolution_Hours  \n",
      "0                63  \n",
      "1                71  \n",
      "2                20  \n",
      "3                 7  \n",
      "4                68  \n",
      "<class 'pandas.core.frame.DataFrame'>\n",
      "RangeIndex: 3000 entries, 0 to 2999\n",
      "Data columns (total 10 columns):\n",
      " #   Column              Non-Null Count  Dtype  \n",
      "---  ------              --------------  -----  \n",
      " 0   Country             3000 non-null   object \n",
      " 1   Year                3000 non-null   int64  \n",
      " 2   Attack_Type         3000 non-null   object \n",
      " 3   Target_Industry     3000 non-null   object \n",
      " 4   Financial_Loss      3000 non-null   float64\n",
      " 5   Affected_Users      3000 non-null   int64  \n",
      " 6   Attack_Source       3000 non-null   object \n",
      " 7   Vulnerability_Type  3000 non-null   object \n",
      " 8   Defense Mechanism   3000 non-null   object \n",
      " 9   Resolution_Hours    3000 non-null   int64  \n",
      "dtypes: float64(1), int64(3), object(6)\n",
      "memory usage: 234.5+ KB\n",
      "None\n"
     ]
    }
   ],
   "source": [
    "print(df.head())\n",
    "print(df.info())"
   ]
  },
  {
   "cell_type": "code",
   "execution_count": 14,
   "id": "21e322ad-8230-43e8-b157-9246d2be5bdb",
   "metadata": {},
   "outputs": [
    {
     "name": "stdout",
     "output_type": "stream",
     "text": [
      "Defaulting to user installation because normal site-packages is not writeable\n",
      "Looking in links: /usr/share/pip-wheels\n",
      "Requirement already satisfied: mysql-connector-python in ./.local/lib/python3.11/site-packages (9.2.0)\n",
      "Requirement already satisfied: SQLAlchemy in /opt/conda/envs/anaconda-panel-2023.05-py310/lib/python3.11/site-packages (1.4.39)\n",
      "Requirement already satisfied: greenlet!=0.4.17 in /opt/conda/envs/anaconda-panel-2023.05-py310/lib/python3.11/site-packages (from SQLAlchemy) (2.0.1)\n",
      "Note: you may need to restart the kernel to use updated packages.\n"
     ]
    }
   ],
   "source": [
    "pip install mysql-connector-python SQLAlchemy"
   ]
  },
  {
   "cell_type": "code",
   "execution_count": 15,
   "id": "87c8b1ae-4d78-448b-9dd5-90283303fbb1",
   "metadata": {},
   "outputs": [
    {
     "name": "stdout",
     "output_type": "stream",
     "text": [
      "Defaulting to user installation because normal site-packages is not writeable\n",
      "Looking in links: /usr/share/pip-wheels\n",
      "Requirement already satisfied: mysql-connector-python in ./.local/lib/python3.11/site-packages (9.2.0)\n",
      "Note: you may need to restart the kernel to use updated packages.\n"
     ]
    }
   ],
   "source": [
    "pip install mysql-connector-python"
   ]
  },
  {
   "cell_type": "code",
   "execution_count": 16,
   "id": "52a08261-6e17-44d4-be5e-20ce402ed9ed",
   "metadata": {
    "scrolled": true
   },
   "outputs": [
    {
     "name": "stdout",
     "output_type": "stream",
     "text": [
      "Defaulting to user installation because normal site-packages is not writeable\n",
      "Looking in links: /usr/share/pip-wheels\n",
      "Requirement already satisfied: mysql-connector-python in ./.local/lib/python3.11/site-packages (9.2.0)\n",
      "Requirement already satisfied: SQLAlchemy in /opt/conda/envs/anaconda-panel-2023.05-py310/lib/python3.11/site-packages (1.4.39)\n",
      "Requirement already satisfied: greenlet!=0.4.17 in /opt/conda/envs/anaconda-panel-2023.05-py310/lib/python3.11/site-packages (from SQLAlchemy) (2.0.1)\n",
      "Note: you may need to restart the kernel to use updated packages.\n"
     ]
    }
   ],
   "source": [
    "pip install mysql-connector-python SQLAlchemy"
   ]
  },
  {
   "cell_type": "code",
   "execution_count": 17,
   "id": "0a1bb21d-22bc-49ec-b381-92e9da209287",
   "metadata": {},
   "outputs": [
    {
     "name": "stdout",
     "output_type": "stream",
     "text": [
      "Defaulting to user installation because normal site-packages is not writeable\n",
      "Looking in links: /usr/share/pip-wheels\n",
      "Requirement already satisfied: sql in ./.local/lib/python3.11/site-packages (2022.4.0)\n",
      "Requirement already satisfied: alchemy in ./.local/lib/python3.11/site-packages (20.5)\n",
      "Requirement already satisfied: requests==2.22.0 in ./.local/lib/python3.11/site-packages (from alchemy) (2.22.0)\n",
      "Requirement already satisfied: python-daemon==2.2.4 in ./.local/lib/python3.11/site-packages (from alchemy) (2.2.4)\n",
      "Requirement already satisfied: filelock==3.0.12 in ./.local/lib/python3.11/site-packages (from alchemy) (3.0.12)\n",
      "Requirement already satisfied: docutils in /opt/conda/envs/anaconda-panel-2023.05-py310/lib/python3.11/site-packages (from python-daemon==2.2.4->alchemy) (0.18.1)\n",
      "Requirement already satisfied: lockfile>=0.10 in ./.local/lib/python3.11/site-packages (from python-daemon==2.2.4->alchemy) (0.12.2)\n",
      "Requirement already satisfied: setuptools in /opt/conda/envs/anaconda-panel-2023.05-py310/lib/python3.11/site-packages (from python-daemon==2.2.4->alchemy) (68.0.0)\n",
      "Requirement already satisfied: chardet<3.1.0,>=3.0.2 in ./.local/lib/python3.11/site-packages (from requests==2.22.0->alchemy) (3.0.4)\n",
      "Requirement already satisfied: idna<2.9,>=2.5 in ./.local/lib/python3.11/site-packages (from requests==2.22.0->alchemy) (2.8)\n",
      "Requirement already satisfied: urllib3!=1.25.0,!=1.25.1,<1.26,>=1.21.1 in ./.local/lib/python3.11/site-packages (from requests==2.22.0->alchemy) (1.25.11)\n",
      "Requirement already satisfied: certifi>=2017.4.17 in /opt/conda/envs/anaconda-panel-2023.05-py310/lib/python3.11/site-packages (from requests==2.22.0->alchemy) (2023.7.22)\n",
      "Note: you may need to restart the kernel to use updated packages.\n"
     ]
    }
   ],
   "source": [
    "pip install sql alchemy"
   ]
  },
  {
   "cell_type": "code",
   "execution_count": 18,
   "id": "21a7945d-50c7-44e1-8e6a-38318bafbcb8",
   "metadata": {},
   "outputs": [
    {
     "name": "stdout",
     "output_type": "stream",
     "text": [
      "Defaulting to user installation because normal site-packages is not writeable\n",
      "Looking in links: /usr/share/pip-wheels\n",
      "Requirement already satisfied: mysql-connector-python in ./.local/lib/python3.11/site-packages (9.2.0)\n"
     ]
    }
   ],
   "source": [
    "!bash -c \"pip install mysql-connector-python\""
   ]
  },
  {
   "cell_type": "code",
   "execution_count": 20,
   "id": "99374a46-d0a0-45b6-a268-6932d7c26678",
   "metadata": {},
   "outputs": [
    {
     "ename": "InterfaceError",
     "evalue": "2002: Can't connect to local MySQL server through socket '%-.100s' (%s) (Warning: not all arguments converted during string formatting)",
     "output_type": "error",
     "traceback": [
      "\u001b[0;31m---------------------------------------------------------------------------\u001b[0m",
      "\u001b[0;31mConnectionRefusedError\u001b[0m                    Traceback (most recent call last)",
      "File \u001b[0;32m~/.local/lib/python3.11/site-packages/mysql/connector/network.py:799\u001b[0m, in \u001b[0;36mMySQLTCPSocket.open_connection\u001b[0;34m(self)\u001b[0m\n\u001b[1;32m    798\u001b[0m     \u001b[38;5;28mself\u001b[39m\u001b[38;5;241m.\u001b[39msock\u001b[38;5;241m.\u001b[39msettimeout(\u001b[38;5;28mself\u001b[39m\u001b[38;5;241m.\u001b[39m_connection_timeout)\n\u001b[0;32m--> 799\u001b[0m     \u001b[38;5;28mself\u001b[39m\u001b[38;5;241m.\u001b[39msock\u001b[38;5;241m.\u001b[39mconnect(sockaddr)\n\u001b[1;32m    800\u001b[0m \u001b[38;5;28;01mexcept\u001b[39;00m (socket\u001b[38;5;241m.\u001b[39mtimeout, \u001b[38;5;167;01mTimeoutError\u001b[39;00m) \u001b[38;5;28;01mas\u001b[39;00m err:\n",
      "\u001b[0;31mConnectionRefusedError\u001b[0m: [Errno 111] Connection refused",
      "\nThe above exception was the direct cause of the following exception:\n",
      "\u001b[0;31mInterfaceError\u001b[0m                            Traceback (most recent call last)",
      "Cell \u001b[0;32mIn[20], line 2\u001b[0m\n\u001b[1;32m      1\u001b[0m \u001b[38;5;28;01mimport\u001b[39;00m \u001b[38;5;21;01mmysql\u001b[39;00m\u001b[38;5;21;01m.\u001b[39;00m\u001b[38;5;21;01mconnector\u001b[39;00m\n\u001b[0;32m----> 2\u001b[0m conn \u001b[38;5;241m=\u001b[39m mysql\u001b[38;5;241m.\u001b[39mconnector\u001b[38;5;241m.\u001b[39mconnect(\n\u001b[1;32m      3\u001b[0m     host\u001b[38;5;241m=\u001b[39m\u001b[38;5;124m\"\u001b[39m\u001b[38;5;124mlocalhost\u001b[39m\u001b[38;5;124m\"\u001b[39m,\n\u001b[1;32m      4\u001b[0m     user\u001b[38;5;241m=\u001b[39m\u001b[38;5;124m\"\u001b[39m\u001b[38;5;124mroot\u001b[39m\u001b[38;5;124m\"\u001b[39m,\n\u001b[1;32m      5\u001b[0m     password\u001b[38;5;241m=\u001b[39m\u001b[38;5;124m\"\u001b[39m\u001b[38;5;124msiri@123\u001b[39m\u001b[38;5;124m\"\u001b[39m\n\u001b[1;32m      6\u001b[0m )\n\u001b[1;32m      7\u001b[0m cursor \u001b[38;5;241m=\u001b[39m conn\u001b[38;5;241m.\u001b[39mcursor()\n\u001b[1;32m      8\u001b[0m cursor\u001b[38;5;241m.\u001b[39mexecute(\u001b[38;5;124m\"\u001b[39m\u001b[38;5;124mCREATE DATABASE IF NOT EXISTS Cyber_threats\u001b[39m\u001b[38;5;124m\"\u001b[39m)\n",
      "File \u001b[0;32m~/.local/lib/python3.11/site-packages/mysql/connector/pooling.py:323\u001b[0m, in \u001b[0;36mconnect\u001b[0;34m(*args, **kwargs)\u001b[0m\n\u001b[1;32m    321\u001b[0m \u001b[38;5;28;01mif\u001b[39;00m CMySQLConnection \u001b[38;5;129;01mand\u001b[39;00m \u001b[38;5;129;01mnot\u001b[39;00m use_pure:\n\u001b[1;32m    322\u001b[0m     \u001b[38;5;28;01mreturn\u001b[39;00m CMySQLConnection(\u001b[38;5;241m*\u001b[39margs, \u001b[38;5;241m*\u001b[39m\u001b[38;5;241m*\u001b[39mkwargs)\n\u001b[0;32m--> 323\u001b[0m \u001b[38;5;28;01mreturn\u001b[39;00m MySQLConnection(\u001b[38;5;241m*\u001b[39margs, \u001b[38;5;241m*\u001b[39m\u001b[38;5;241m*\u001b[39mkwargs)\n",
      "File \u001b[0;32m~/.local/lib/python3.11/site-packages/mysql/connector/connection.py:184\u001b[0m, in \u001b[0;36mMySQLConnection.__init__\u001b[0;34m(self, **kwargs)\u001b[0m\n\u001b[1;32m    182\u001b[0m \u001b[38;5;28;01mif\u001b[39;00m kwargs:\n\u001b[1;32m    183\u001b[0m     \u001b[38;5;28;01mtry\u001b[39;00m:\n\u001b[0;32m--> 184\u001b[0m         \u001b[38;5;28mself\u001b[39m\u001b[38;5;241m.\u001b[39mconnect(\u001b[38;5;241m*\u001b[39m\u001b[38;5;241m*\u001b[39mkwargs)\n\u001b[1;32m    185\u001b[0m     \u001b[38;5;28;01mexcept\u001b[39;00m \u001b[38;5;167;01mException\u001b[39;00m:\n\u001b[1;32m    186\u001b[0m         \u001b[38;5;66;03m# Tidy-up underlying socket on failure\u001b[39;00m\n\u001b[1;32m    187\u001b[0m         \u001b[38;5;28mself\u001b[39m\u001b[38;5;241m.\u001b[39mclose()\n",
      "File \u001b[0;32m~/.local/lib/python3.11/site-packages/mysql/connector/abstracts.py:1529\u001b[0m, in \u001b[0;36mMySQLConnectionAbstract.connect\u001b[0;34m(self, **kwargs)\u001b[0m\n\u001b[1;32m   1526\u001b[0m     \u001b[38;5;28mself\u001b[39m\u001b[38;5;241m.\u001b[39mconfig(\u001b[38;5;241m*\u001b[39m\u001b[38;5;241m*\u001b[39mkwargs)\n\u001b[1;32m   1528\u001b[0m \u001b[38;5;28mself\u001b[39m\u001b[38;5;241m.\u001b[39mdisconnect()\n\u001b[0;32m-> 1529\u001b[0m \u001b[38;5;28mself\u001b[39m\u001b[38;5;241m.\u001b[39m_open_connection()\n\u001b[1;32m   1531\u001b[0m charset, collation \u001b[38;5;241m=\u001b[39m (\n\u001b[1;32m   1532\u001b[0m     kwargs\u001b[38;5;241m.\u001b[39mpop(\u001b[38;5;124m\"\u001b[39m\u001b[38;5;124mcharset\u001b[39m\u001b[38;5;124m\"\u001b[39m, \u001b[38;5;28;01mNone\u001b[39;00m),\n\u001b[1;32m   1533\u001b[0m     kwargs\u001b[38;5;241m.\u001b[39mpop(\u001b[38;5;124m\"\u001b[39m\u001b[38;5;124mcollation\u001b[39m\u001b[38;5;124m\"\u001b[39m, \u001b[38;5;28;01mNone\u001b[39;00m),\n\u001b[1;32m   1534\u001b[0m )\n\u001b[1;32m   1535\u001b[0m \u001b[38;5;28;01mif\u001b[39;00m charset \u001b[38;5;129;01mor\u001b[39;00m collation:\n",
      "File \u001b[0;32m~/.local/lib/python3.11/site-packages/mysql/connector/connection.py:410\u001b[0m, in \u001b[0;36mMySQLConnection._open_connection\u001b[0;34m(self)\u001b[0m\n\u001b[1;32m    405\u001b[0m     \u001b[38;5;28;01mif\u001b[39;00m \u001b[38;5;28misinstance\u001b[39m(err, (ReadTimeoutError, WriteTimeoutError)):\n\u001b[1;32m    406\u001b[0m         \u001b[38;5;28;01mraise\u001b[39;00m ConnectionTimeoutError(\n\u001b[1;32m    407\u001b[0m             errno\u001b[38;5;241m=\u001b[39merr\u001b[38;5;241m.\u001b[39merrno,\n\u001b[1;32m    408\u001b[0m             msg\u001b[38;5;241m=\u001b[39merr\u001b[38;5;241m.\u001b[39mmsg,\n\u001b[1;32m    409\u001b[0m         ) \u001b[38;5;28;01mfrom\u001b[39;00m \u001b[38;5;21;01merr\u001b[39;00m\n\u001b[0;32m--> 410\u001b[0m     \u001b[38;5;28;01mraise\u001b[39;00m err\n\u001b[1;32m    411\u001b[0m \u001b[38;5;28;01mfinally\u001b[39;00m:\n\u001b[1;32m    412\u001b[0m     \u001b[38;5;66;03m# as the connection is established, set back the read\u001b[39;00m\n\u001b[1;32m    413\u001b[0m     \u001b[38;5;66;03m# and write timeouts to the original value\u001b[39;00m\n\u001b[1;32m    414\u001b[0m     \u001b[38;5;28mself\u001b[39m\u001b[38;5;241m.\u001b[39mread_timeout \u001b[38;5;241m=\u001b[39m stored_read_timeout\n",
      "File \u001b[0;32m~/.local/lib/python3.11/site-packages/mysql/connector/connection.py:381\u001b[0m, in \u001b[0;36mMySQLConnection._open_connection\u001b[0;34m(self)\u001b[0m\n\u001b[1;32m    379\u001b[0m \u001b[38;5;28mself\u001b[39m\u001b[38;5;241m.\u001b[39m_socket \u001b[38;5;241m=\u001b[39m \u001b[38;5;28mself\u001b[39m\u001b[38;5;241m.\u001b[39m_get_connection()\n\u001b[1;32m    380\u001b[0m \u001b[38;5;28;01mtry\u001b[39;00m:\n\u001b[0;32m--> 381\u001b[0m     \u001b[38;5;28mself\u001b[39m\u001b[38;5;241m.\u001b[39m_socket\u001b[38;5;241m.\u001b[39mopen_connection()\n\u001b[1;32m    383\u001b[0m     \u001b[38;5;66;03m# do initial handshake\u001b[39;00m\n\u001b[1;32m    384\u001b[0m     \u001b[38;5;28mself\u001b[39m\u001b[38;5;241m.\u001b[39m_do_handshake()\n",
      "File \u001b[0;32m~/.local/lib/python3.11/site-packages/mysql/connector/network.py:810\u001b[0m, in \u001b[0;36mMySQLTCPSocket.open_connection\u001b[0;34m(self)\u001b[0m\n\u001b[1;32m    801\u001b[0m     \u001b[38;5;28;01mraise\u001b[39;00m ConnectionTimeoutError(\n\u001b[1;32m    802\u001b[0m         errno\u001b[38;5;241m=\u001b[39m\u001b[38;5;241m2003\u001b[39m,\n\u001b[1;32m    803\u001b[0m         values\u001b[38;5;241m=\u001b[39m(\n\u001b[0;32m   (...)\u001b[0m\n\u001b[1;32m    807\u001b[0m         ),\n\u001b[1;32m    808\u001b[0m     ) \u001b[38;5;28;01mfrom\u001b[39;00m \u001b[38;5;21;01merr\u001b[39;00m\n\u001b[1;32m    809\u001b[0m \u001b[38;5;28;01mexcept\u001b[39;00m \u001b[38;5;167;01mIOError\u001b[39;00m \u001b[38;5;28;01mas\u001b[39;00m err:\n\u001b[0;32m--> 810\u001b[0m     \u001b[38;5;28;01mraise\u001b[39;00m InterfaceError(\n\u001b[1;32m    811\u001b[0m         errno\u001b[38;5;241m=\u001b[39m\u001b[38;5;241m2002\u001b[39m,\n\u001b[1;32m    812\u001b[0m         values\u001b[38;5;241m=\u001b[39m(\n\u001b[1;32m    813\u001b[0m             \u001b[38;5;28mself\u001b[39m\u001b[38;5;241m.\u001b[39mserver_host,\n\u001b[1;32m    814\u001b[0m             \u001b[38;5;28mself\u001b[39m\u001b[38;5;241m.\u001b[39mserver_port,\n\u001b[1;32m    815\u001b[0m             _strioerror(err),\n\u001b[1;32m    816\u001b[0m         ),\n\u001b[1;32m    817\u001b[0m     ) \u001b[38;5;28;01mfrom\u001b[39;00m \u001b[38;5;21;01merr\u001b[39;00m\n\u001b[1;32m    818\u001b[0m \u001b[38;5;28;01mexcept\u001b[39;00m \u001b[38;5;167;01mException\u001b[39;00m \u001b[38;5;28;01mas\u001b[39;00m err:\n\u001b[1;32m    819\u001b[0m     \u001b[38;5;28;01mraise\u001b[39;00m OperationalError(\u001b[38;5;28mstr\u001b[39m(err)) \u001b[38;5;28;01mfrom\u001b[39;00m \u001b[38;5;21;01merr\u001b[39;00m\n",
      "\u001b[0;31mInterfaceError\u001b[0m: 2002: Can't connect to local MySQL server through socket '%-.100s' (%s) (Warning: not all arguments converted during string formatting)"
     ]
    }
   ],
   "source": [
    "import mysql.connector\n",
    "conn = mysql.connector.connect(\n",
    "    host=\"localhost\",\n",
    "    user=\"root\",\n",
    "    password=\"siri@123\"\n",
    ")\n",
    "cursor = conn.cursor()\n",
    "cursor.execute(\"CREATE DATABASE IF NOT EXISTS Cyber_threats\")\n",
    "print(\"Database 'Cyber_threats' created successfully!\")\n",
    "cursor.close()\n",
    "conn.close()"
   ]
  },
  {
   "cell_type": "code",
   "execution_count": null,
   "id": "5a898699-1342-4353-9c17-3bda0457d705",
   "metadata": {},
   "outputs": [],
   "source": []
  }
 ],
 "metadata": {
  "kernelspec": {
   "display_name": "anaconda-panel-2023.05-py310",
   "language": "python",
   "name": "conda-env-anaconda-panel-2023.05-py310-py"
  },
  "language_info": {
   "codemirror_mode": {
    "name": "ipython",
    "version": 3
   },
   "file_extension": ".py",
   "mimetype": "text/x-python",
   "name": "python",
   "nbconvert_exporter": "python",
   "pygments_lexer": "ipython3",
   "version": "3.11.5"
  }
 },
 "nbformat": 4,
 "nbformat_minor": 5
}
